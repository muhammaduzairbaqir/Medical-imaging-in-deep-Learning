{
 "cells": [
  {
   "cell_type": "code",
   "execution_count": 1,
   "id": "c3034cef",
   "metadata": {
    "execution": {
     "iopub.execute_input": "2025-09-26T12:57:06.185792Z",
     "iopub.status.busy": "2025-09-26T12:57:06.185518Z",
     "iopub.status.idle": "2025-09-26T12:57:08.906902Z",
     "shell.execute_reply": "2025-09-26T12:57:08.906118Z"
    },
    "papermill": {
     "duration": 2.727309,
     "end_time": "2025-09-26T12:57:08.908304",
     "exception": false,
     "start_time": "2025-09-26T12:57:06.180995",
     "status": "completed"
    },
    "tags": []
   },
   "outputs": [
    {
     "name": "stdout",
     "output_type": "stream",
     "text": [
      "Found existing installation: scikit-learn 1.2.2\r\n",
      "Uninstalling scikit-learn-1.2.2:\r\n",
      "  Successfully uninstalled scikit-learn-1.2.2\r\n"
     ]
    }
   ],
   "source": [
    "!pip uninstall -y scikit-learn"
   ]
  },
  {
   "cell_type": "code",
   "execution_count": 2,
   "id": "e4f66515",
   "metadata": {
    "execution": {
     "iopub.execute_input": "2025-09-26T12:57:08.915560Z",
     "iopub.status.busy": "2025-09-26T12:57:08.915286Z",
     "iopub.status.idle": "2025-09-26T12:57:14.167036Z",
     "shell.execute_reply": "2025-09-26T12:57:14.166080Z"
    },
    "papermill": {
     "duration": 5.256922,
     "end_time": "2025-09-26T12:57:14.168607",
     "exception": false,
     "start_time": "2025-09-26T12:57:08.911685",
     "status": "completed"
    },
    "tags": []
   },
   "outputs": [
    {
     "name": "stdout",
     "output_type": "stream",
     "text": [
      "\u001b[2K   \u001b[90m━━━━━━━━━━━━━━━━━━━━━━━━━━━━━━━━━━━━━━━━\u001b[0m \u001b[32m10.9/10.9 MB\u001b[0m \u001b[31m104.7 MB/s\u001b[0m eta \u001b[36m0:00:00\u001b[0m\r\n",
      "\u001b[?25h\u001b[31mERROR: pip's dependency resolver does not currently take into account all the packages that are installed. This behaviour is the source of the following dependency conflicts.\r\n",
      "nilearn 0.11.1 requires scikit-learn>=1.4.0, but you have scikit-learn 1.3.2 which is incompatible.\r\n",
      "bigframes 1.36.0 requires rich<14,>=12.4.4, but you have rich 14.0.0 which is incompatible.\u001b[0m\u001b[31m\r\n",
      "\u001b[0m"
     ]
    }
   ],
   "source": [
    "!pip install scikit-learn==1.3.2 --quiet"
   ]
  },
  {
   "cell_type": "code",
   "execution_count": 3,
   "id": "39fe8e75",
   "metadata": {
    "execution": {
     "iopub.execute_input": "2025-09-26T12:57:14.176024Z",
     "iopub.status.busy": "2025-09-26T12:57:14.175783Z",
     "iopub.status.idle": "2025-09-26T12:57:20.318484Z",
     "shell.execute_reply": "2025-09-26T12:57:20.317468Z"
    },
    "papermill": {
     "duration": 6.148087,
     "end_time": "2025-09-26T12:57:20.320067",
     "exception": false,
     "start_time": "2025-09-26T12:57:14.171980",
     "status": "completed"
    },
    "tags": []
   },
   "outputs": [
    {
     "name": "stdout",
     "output_type": "stream",
     "text": [
      "Requirement already satisfied: imbalanced-learn in /usr/local/lib/python3.11/dist-packages (0.13.0)\r\n",
      "Collecting imbalanced-learn\r\n",
      "  Downloading imbalanced_learn-0.14.0-py3-none-any.whl.metadata (8.8 kB)\r\n",
      "Requirement already satisfied: numpy<3,>=1.25.2 in /usr/local/lib/python3.11/dist-packages (from imbalanced-learn) (1.26.4)\r\n",
      "Requirement already satisfied: scipy<2,>=1.11.4 in /usr/local/lib/python3.11/dist-packages (from imbalanced-learn) (1.15.2)\r\n",
      "Collecting scikit-learn<2,>=1.4.2 (from imbalanced-learn)\r\n",
      "  Downloading scikit_learn-1.7.2-cp311-cp311-manylinux2014_x86_64.manylinux_2_17_x86_64.whl.metadata (11 kB)\r\n",
      "Requirement already satisfied: joblib<2,>=1.2.0 in /usr/local/lib/python3.11/dist-packages (from imbalanced-learn) (1.4.2)\r\n",
      "Requirement already satisfied: threadpoolctl<4,>=2.0.0 in /usr/local/lib/python3.11/dist-packages (from imbalanced-learn) (3.6.0)\r\n",
      "Requirement already satisfied: mkl_fft in /usr/local/lib/python3.11/dist-packages (from numpy<3,>=1.25.2->imbalanced-learn) (1.3.8)\r\n",
      "Requirement already satisfied: mkl_random in /usr/local/lib/python3.11/dist-packages (from numpy<3,>=1.25.2->imbalanced-learn) (1.2.4)\r\n",
      "Requirement already satisfied: mkl_umath in /usr/local/lib/python3.11/dist-packages (from numpy<3,>=1.25.2->imbalanced-learn) (0.1.1)\r\n",
      "Requirement already satisfied: mkl in /usr/local/lib/python3.11/dist-packages (from numpy<3,>=1.25.2->imbalanced-learn) (2025.1.0)\r\n",
      "Requirement already satisfied: tbb4py in /usr/local/lib/python3.11/dist-packages (from numpy<3,>=1.25.2->imbalanced-learn) (2022.1.0)\r\n",
      "Requirement already satisfied: mkl-service in /usr/local/lib/python3.11/dist-packages (from numpy<3,>=1.25.2->imbalanced-learn) (2.4.1)\r\n",
      "Requirement already satisfied: intel-openmp<2026,>=2024 in /usr/local/lib/python3.11/dist-packages (from mkl->numpy<3,>=1.25.2->imbalanced-learn) (2024.2.0)\r\n",
      "Requirement already satisfied: tbb==2022.* in /usr/local/lib/python3.11/dist-packages (from mkl->numpy<3,>=1.25.2->imbalanced-learn) (2022.1.0)\r\n",
      "Requirement already satisfied: tcmlib==1.* in /usr/local/lib/python3.11/dist-packages (from tbb==2022.*->mkl->numpy<3,>=1.25.2->imbalanced-learn) (1.2.0)\r\n",
      "Requirement already satisfied: intel-cmplr-lib-rt in /usr/local/lib/python3.11/dist-packages (from mkl_umath->numpy<3,>=1.25.2->imbalanced-learn) (2024.2.0)\r\n",
      "Requirement already satisfied: intel-cmplr-lib-ur==2024.2.0 in /usr/local/lib/python3.11/dist-packages (from intel-openmp<2026,>=2024->mkl->numpy<3,>=1.25.2->imbalanced-learn) (2024.2.0)\r\n",
      "Downloading imbalanced_learn-0.14.0-py3-none-any.whl (239 kB)\r\n",
      "\u001b[2K   \u001b[90m━━━━━━━━━━━━━━━━━━━━━━━━━━━━━━━━━━━━━━━━\u001b[0m \u001b[32m240.0/240.0 kB\u001b[0m \u001b[31m6.6 MB/s\u001b[0m eta \u001b[36m0:00:00\u001b[0m\r\n",
      "\u001b[?25hDownloading scikit_learn-1.7.2-cp311-cp311-manylinux2014_x86_64.manylinux_2_17_x86_64.whl (9.7 MB)\r\n",
      "\u001b[2K   \u001b[90m━━━━━━━━━━━━━━━━━━━━━━━━━━━━━━━━━━━━━━━━\u001b[0m \u001b[32m9.7/9.7 MB\u001b[0m \u001b[31m104.7 MB/s\u001b[0m eta \u001b[36m0:00:00\u001b[0m\r\n",
      "\u001b[?25hInstalling collected packages: scikit-learn, imbalanced-learn\r\n",
      "  Attempting uninstall: scikit-learn\r\n",
      "    Found existing installation: scikit-learn 1.3.2\r\n",
      "    Uninstalling scikit-learn-1.3.2:\r\n",
      "      Successfully uninstalled scikit-learn-1.3.2\r\n",
      "  Attempting uninstall: imbalanced-learn\r\n",
      "    Found existing installation: imbalanced-learn 0.13.0\r\n",
      "    Uninstalling imbalanced-learn-0.13.0:\r\n",
      "      Successfully uninstalled imbalanced-learn-0.13.0\r\n",
      "\u001b[31mERROR: pip's dependency resolver does not currently take into account all the packages that are installed. This behaviour is the source of the following dependency conflicts.\r\n",
      "category-encoders 2.7.0 requires scikit-learn<1.6.0,>=1.0.0, but you have scikit-learn 1.7.2 which is incompatible.\r\n",
      "sklearn-compat 0.1.3 requires scikit-learn<1.7,>=1.2, but you have scikit-learn 1.7.2 which is incompatible.\r\n",
      "bigframes 1.36.0 requires rich<14,>=12.4.4, but you have rich 14.0.0 which is incompatible.\u001b[0m\u001b[31m\r\n",
      "\u001b[0mSuccessfully installed imbalanced-learn-0.14.0 scikit-learn-1.7.2\r\n"
     ]
    }
   ],
   "source": [
    "!pip install -U imbalanced-learn"
   ]
  },
  {
   "cell_type": "code",
   "execution_count": 4,
   "id": "0d501a0f",
   "metadata": {
    "execution": {
     "iopub.execute_input": "2025-09-26T12:57:20.330313Z",
     "iopub.status.busy": "2025-09-26T12:57:20.329840Z",
     "iopub.status.idle": "2025-09-26T12:57:36.187610Z",
     "shell.execute_reply": "2025-09-26T12:57:36.186941Z"
    },
    "papermill": {
     "duration": 15.864963,
     "end_time": "2025-09-26T12:57:36.189048",
     "exception": false,
     "start_time": "2025-09-26T12:57:20.324085",
     "status": "completed"
    },
    "tags": []
   },
   "outputs": [
    {
     "name": "stderr",
     "output_type": "stream",
     "text": [
      "WARNING: All log messages before absl::InitializeLog() is called are written to STDERR\n",
      "E0000 00:00:1758891445.152299      19 cuda_dnn.cc:8310] Unable to register cuDNN factory: Attempting to register factory for plugin cuDNN when one has already been registered\n",
      "E0000 00:00:1758891445.208061      19 cuda_blas.cc:1418] Unable to register cuBLAS factory: Attempting to register factory for plugin cuBLAS when one has already been registered\n"
     ]
    }
   ],
   "source": [
    "import os\n",
    "import logging\n",
    "\n",
    "# Suppress TensorFlow and related logs\n",
    "os.environ['TF_CPP_MIN_LOG_LEVEL'] = '3'  # Hide TensorFlow INFO/WARNING logs\n",
    "logging.getLogger('tensorflow').setLevel(logging.ERROR)\n",
    "\n",
    "# Optional: Hide absl and factory register warnings\n",
    "os.environ['CUDA_VISIBLE_DEVICES'] = '0'  # Ensures single GPU is used\n",
    "\n",
    "# Suppress other system-wide logs like XLA and absl\n",
    "os.environ['TF_CPP_MIN_LOG_LEVEL'] = '3'  # Suppress TensorFlow logs\n",
    "os.environ['TF_ABS_WARNINGS'] = '0'  # Suppress absl logs\n",
    "os.environ['XLA_FLAGS'] = '--xla_disable_mlir=1'  # Disable XLA info logs\n",
    "\n",
    "# Import necessary libraries\n",
    "import numpy as np\n",
    "import matplotlib.pyplot as plt\n",
    "import seaborn as sns\n",
    "import random\n",
    "import cv2\n",
    "\n",
    "from sklearn.preprocessing import LabelEncoder\n",
    "from sklearn.metrics import confusion_matrix, classification_report, roc_curve, auc\n",
    "from tensorflow.keras.preprocessing.image import ImageDataGenerator\n",
    "from tensorflow.keras.applications import ConvNeXtBase\n",
    "from tensorflow.keras.applications.convnext import preprocess_input as convnext_preprocess\n",
    "from tensorflow.keras.models import Model\n",
    "from tensorflow.keras.layers import GlobalMaxPooling2D, Dense, BatchNormalization, Dropout\n",
    "from tensorflow.keras.callbacks import EarlyStopping\n",
    "from tensorflow.keras.utils import to_categorical\n",
    "\n",
    "# Import SMOTE for handling imbalanced data\n",
    "from imblearn.over_sampling import SMOTE  # Import SMOTE\n"
   ]
  },
  {
   "cell_type": "code",
   "execution_count": 5,
   "id": "d2549bd9",
   "metadata": {
    "execution": {
     "iopub.execute_input": "2025-09-26T12:57:36.197970Z",
     "iopub.status.busy": "2025-09-26T12:57:36.197511Z",
     "iopub.status.idle": "2025-09-26T12:57:36.201022Z",
     "shell.execute_reply": "2025-09-26T12:57:36.200498Z"
    },
    "papermill": {
     "duration": 0.008921,
     "end_time": "2025-09-26T12:57:36.201991",
     "exception": false,
     "start_time": "2025-09-26T12:57:36.193070",
     "status": "completed"
    },
    "tags": []
   },
   "outputs": [],
   "source": [
    "# =================== PATHS ====================\n",
    "train_val_path = '/kaggle/input/kaggle-skin-desease/skin-disease-datasaet/train_set'\n",
    "test_path = '/kaggle/input/kaggle-skin-desease/skin-disease-datasaet/test_set'\n"
   ]
  },
  {
   "cell_type": "code",
   "execution_count": 6,
   "id": "8e466779",
   "metadata": {
    "execution": {
     "iopub.execute_input": "2025-09-26T12:57:36.210049Z",
     "iopub.status.busy": "2025-09-26T12:57:36.209836Z",
     "iopub.status.idle": "2025-09-26T12:57:36.213298Z",
     "shell.execute_reply": "2025-09-26T12:57:36.212793Z"
    },
    "papermill": {
     "duration": 0.008589,
     "end_time": "2025-09-26T12:57:36.214330",
     "exception": false,
     "start_time": "2025-09-26T12:57:36.205741",
     "status": "completed"
    },
    "tags": []
   },
   "outputs": [],
   "source": [
    "# Data Generator\n",
    "datagen = ImageDataGenerator(\n",
    "    rotation_range=30, width_shift_range=0.1, height_shift_range=0.1,\n",
    "    shear_range=0.1, zoom_range=0.1, horizontal_flip=True,\n",
    "    brightness_range=[0.8, 1.2], fill_mode='reflect'\n",
    ")\n"
   ]
  },
  {
   "cell_type": "code",
   "execution_count": 7,
   "id": "220b5745",
   "metadata": {
    "execution": {
     "iopub.execute_input": "2025-09-26T12:57:36.222287Z",
     "iopub.status.busy": "2025-09-26T12:57:36.222082Z",
     "iopub.status.idle": "2025-09-26T12:57:36.227477Z",
     "shell.execute_reply": "2025-09-26T12:57:36.227001Z"
    },
    "papermill": {
     "duration": 0.010526,
     "end_time": "2025-09-26T12:57:36.228426",
     "exception": false,
     "start_time": "2025-09-26T12:57:36.217900",
     "status": "completed"
    },
    "tags": []
   },
   "outputs": [],
   "source": [
    "# =================== DATA LOADING ====================\n",
    "def load_data(path):\n",
    "    data = []\n",
    "    for folder in sorted(os.listdir(path)):\n",
    "        folder_path = os.path.join(path, folder)\n",
    "        if not os.path.isdir(folder_path):\n",
    "            continue\n",
    "        files = [f for f in os.listdir(folder_path) if f.lower().endswith(('.jpg', '.jpeg', '.png'))]\n",
    "        if len(files) < 2:\n",
    "            continue\n",
    "        num_train = int(0.8 * len(files))\n",
    "        files_train = random.sample(files, num_train)\n",
    "        files_val = list(set(files) - set(files_train))\n",
    "        for file in files_train + files_val:\n",
    "            file_path = os.path.join(folder_path, file)\n",
    "            img = cv2.imread(file_path)\n",
    "            if img is not None:\n",
    "                img = cv2.resize(img, (224, 224))\n",
    "                data.append((img, folder))\n",
    "    return data"
   ]
  },
  {
   "cell_type": "code",
   "execution_count": 8,
   "id": "3e53b187",
   "metadata": {
    "execution": {
     "iopub.execute_input": "2025-09-26T12:57:36.236383Z",
     "iopub.status.busy": "2025-09-26T12:57:36.236005Z",
     "iopub.status.idle": "2025-09-26T12:57:41.674306Z",
     "shell.execute_reply": "2025-09-26T12:57:41.673513Z"
    },
    "papermill": {
     "duration": 5.443759,
     "end_time": "2025-09-26T12:57:41.675725",
     "exception": false,
     "start_time": "2025-09-26T12:57:36.231966",
     "status": "completed"
    },
    "tags": []
   },
   "outputs": [],
   "source": [
    "# Load training and testing data\n",
    "train_val_data = load_data(train_val_path)\n",
    "test_data = load_data(test_path)\n",
    "\n",
    "X_train, y_train = zip(*train_val_data)\n",
    "X_test, y_test = zip(*test_data)"
   ]
  },
  {
   "cell_type": "code",
   "execution_count": 9,
   "id": "f50353b4",
   "metadata": {
    "execution": {
     "iopub.execute_input": "2025-09-26T12:57:41.684762Z",
     "iopub.status.busy": "2025-09-26T12:57:41.684538Z",
     "iopub.status.idle": "2025-09-26T12:57:41.689610Z",
     "shell.execute_reply": "2025-09-26T12:57:41.689067Z"
    },
    "papermill": {
     "duration": 0.0108,
     "end_time": "2025-09-26T12:57:41.690716",
     "exception": false,
     "start_time": "2025-09-26T12:57:41.679916",
     "status": "completed"
    },
    "tags": []
   },
   "outputs": [],
   "source": [
    "# Label encoding\n",
    "le = LabelEncoder()\n",
    "y_train_encoded = le.fit_transform(y_train)\n",
    "y_test_encoded = le.transform(y_test)\n",
    "num_classes = len(le.classes_)"
   ]
  },
  {
   "cell_type": "code",
   "execution_count": 10,
   "id": "8918e2da",
   "metadata": {
    "execution": {
     "iopub.execute_input": "2025-09-26T12:57:41.698747Z",
     "iopub.status.busy": "2025-09-26T12:57:41.698350Z",
     "iopub.status.idle": "2025-09-26T12:57:41.702128Z",
     "shell.execute_reply": "2025-09-26T12:57:41.701644Z"
    },
    "papermill": {
     "duration": 0.008871,
     "end_time": "2025-09-26T12:57:41.703124",
     "exception": false,
     "start_time": "2025-09-26T12:57:41.694253",
     "status": "completed"
    },
    "tags": []
   },
   "outputs": [],
   "source": [
    "# One-hot encoding\n",
    "y_train_one_hot = to_categorical(y_train_encoded, num_classes)\n",
    "y_test_one_hot = to_categorical(y_test_encoded, num_classes)"
   ]
  },
  {
   "cell_type": "code",
   "execution_count": 11,
   "id": "6d14d1ce",
   "metadata": {
    "execution": {
     "iopub.execute_input": "2025-09-26T12:57:41.711439Z",
     "iopub.status.busy": "2025-09-26T12:57:41.710734Z",
     "iopub.status.idle": "2025-09-26T12:57:42.763339Z",
     "shell.execute_reply": "2025-09-26T12:57:42.762735Z"
    },
    "papermill": {
     "duration": 1.058118,
     "end_time": "2025-09-26T12:57:42.764804",
     "exception": false,
     "start_time": "2025-09-26T12:57:41.706686",
     "status": "completed"
    },
    "tags": []
   },
   "outputs": [],
   "source": [
    "# Apply SMOTE\n",
    "def apply_smote(X, y):\n",
    "    X_np = np.array(X)\n",
    "    X_flat = X_np.reshape(len(X_np), -1)\n",
    "    smote = SMOTE()  # Create SMOTE object\n",
    "    X_res, y_res = smote.fit_resample(X_flat, y)\n",
    "    return X_res.reshape(-1, 224, 224, 3), y_res\n",
    "\n",
    "X_train_smote, y_train_smote = apply_smote(X_train, y_train_encoded)"
   ]
  },
  {
   "cell_type": "code",
   "execution_count": 12,
   "id": "2de7e5c1",
   "metadata": {
    "execution": {
     "iopub.execute_input": "2025-09-26T12:57:42.773581Z",
     "iopub.status.busy": "2025-09-26T12:57:42.773161Z"
    },
    "papermill": {
     "duration": 2.007659,
     "end_time": "2025-09-26T12:57:44.776499",
     "exception": false,
     "start_time": "2025-09-26T12:57:42.768840",
     "status": "completed"
    },
    "tags": []
   },
   "outputs": [
    {
     "name": "stdout",
     "output_type": "stream",
     "text": [
      "\n",
      "Training ConvNeXt...\n"
     ]
    },
    {
     "name": "stderr",
     "output_type": "stream",
     "text": [
      "I0000 00:00:1758891463.963864      19 gpu_device.cc:2022] Created device /job:localhost/replica:0/task:0/device:GPU:0 with 15513 MB memory:  -> device: 0, name: Tesla P100-PCIE-16GB, pci bus id: 0000:00:04.0, compute capability: 6.0\n"
     ]
    }
   ],
   "source": [
    "# =================== TRAINING ConvNeXt ====================\n",
    "print(\"\\nTraining ConvNeXt...\")\n",
    "X_train_convnext = convnext_preprocess(np.array(X_train_smote))\n",
    "X_test_convnext = convnext_preprocess(np.array(X_test))\n",
    "\n",
    "convnext_base = ConvNeXtBase(weights='imagenet', include_top=False, input_shape=(224, 224, 3))\n",
    "convnext_base.trainable = False\n",
    "\n",
    "x = GlobalMaxPooling2D()(convnext_base.output)\n",
    "x = Dense(512, activation='relu')(x)\n",
    "x = BatchNormalization()(x)\n",
    "x = Dropout(0.5)(x)\n",
    "output = Dense(num_classes, activation='softmax')(x)\n",
    "\n",
    "convnext_model = Model(inputs=convnext_base.input, outputs=output)\n",
    "convnext_model.compile(optimizer='adamax', loss='categorical_crossentropy', metrics=['accuracy'])\n",
    "\n",
    "convnext_history = convnext_model.fit(\n",
    "    X_train_convnext, to_categorical(y_train_smote, num_classes),\n",
    "    validation_data=(X_test_convnext, y_test_one_hot),\n",
    "    epochs=10, batch_size=32,\n",
    "    callbacks=[EarlyStopping(monitor='val_loss', patience=5, restore_best_weights=True)],\n",
    "    verbose=1\n",
    ")\n"
   ]
  },
  {
   "cell_type": "code",
   "execution_count": null,
   "id": "e386f0c3",
   "metadata": {
    "execution": {
     "iopub.execute_input": "2025-04-26T07:42:23.247251Z",
     "iopub.status.busy": "2025-04-26T07:42:23.246457Z",
     "iopub.status.idle": "2025-04-26T07:42:24.075768Z",
     "shell.execute_reply": "2025-04-26T07:42:24.075059Z",
     "shell.execute_reply.started": "2025-04-26T07:42:23.247222Z"
    },
    "papermill": {
     "duration": null,
     "end_time": null,
     "exception": null,
     "start_time": null,
     "status": "completed"
    },
    "tags": []
   },
   "outputs": [],
   "source": [
    "# Save the trained model after training\n",
    "convnext_model.save('skin_disease_model.h5')  # Save model as .h5 file\n",
    "print(\"Model saved as skin_disease_model.h5\")"
   ]
  },
  {
   "cell_type": "code",
   "execution_count": null,
   "id": "b9addbf4",
   "metadata": {
    "execution": {
     "iopub.execute_input": "2025-04-26T07:42:45.528428Z",
     "iopub.status.busy": "2025-04-26T07:42:45.528147Z",
     "iopub.status.idle": "2025-04-26T07:42:45.929307Z",
     "shell.execute_reply": "2025-04-26T07:42:45.928558Z",
     "shell.execute_reply.started": "2025-04-26T07:42:45.528406Z"
    },
    "papermill": {
     "duration": null,
     "end_time": null,
     "exception": null,
     "start_time": null,
     "status": "completed"
    },
    "tags": []
   },
   "outputs": [],
   "source": [
    "# =================== EVALUATION ====================\n",
    "# Accuracy Plot\n",
    "plt.figure(figsize=(10,6))\n",
    "plt.plot(convnext_history.history['accuracy'], label='Train Accuracy')\n",
    "plt.plot(convnext_history.history['val_accuracy'], label='Val Accuracy')\n",
    "plt.title(\"ConvNeXt Accuracy\")\n",
    "plt.xlabel(\"Epochs\")\n",
    "plt.ylabel(\"Accuracy\")\n",
    "plt.legend()\n",
    "plt.grid(True)\n",
    "plt.show()\n",
    "\n",
    "# Loss Plot\n",
    "plt.figure(figsize=(10,6))\n",
    "plt.plot(convnext_history.history['loss'], label='Train Loss')\n",
    "plt.plot(convnext_history.history['val_loss'], label='Val Loss')\n",
    "plt.title(\"ConvNeXt Loss\")\n",
    "plt.xlabel(\"Epochs\")\n",
    "plt.ylabel(\"Loss\")\n",
    "plt.legend()\n",
    "plt.grid(True)\n",
    "plt.show()"
   ]
  },
  {
   "cell_type": "code",
   "execution_count": null,
   "id": "2db1460e",
   "metadata": {
    "execution": {
     "iopub.execute_input": "2025-04-26T07:42:52.465926Z",
     "iopub.status.busy": "2025-04-26T07:42:52.465617Z",
     "iopub.status.idle": "2025-04-26T07:43:06.672550Z",
     "shell.execute_reply": "2025-04-26T07:43:06.671674Z",
     "shell.execute_reply.started": "2025-04-26T07:42:52.465905Z"
    },
    "papermill": {
     "duration": null,
     "end_time": null,
     "exception": null,
     "start_time": null,
     "status": "completed"
    },
    "tags": []
   },
   "outputs": [],
   "source": [
    "# Predictions\n",
    "convnext_preds = np.argmax(convnext_model.predict(X_test_convnext), axis=1)\n",
    "\n",
    "# Confusion Matrix\n",
    "plt.figure(figsize=(10,8))\n",
    "sns.heatmap(confusion_matrix(y_test_encoded, convnext_preds), annot=True, fmt='d', cmap='Blues',\n",
    "            xticklabels=le.classes_, yticklabels=le.classes_)\n",
    "plt.title(\"ConvNeXt Confusion Matrix\")\n",
    "plt.xlabel(\"Predicted\")\n",
    "plt.ylabel(\"True\")\n",
    "plt.show()"
   ]
  },
  {
   "cell_type": "code",
   "execution_count": null,
   "id": "556cd1ea",
   "metadata": {
    "execution": {
     "iopub.execute_input": "2025-04-26T07:43:14.824906Z",
     "iopub.status.busy": "2025-04-26T07:43:14.824576Z",
     "iopub.status.idle": "2025-04-26T07:43:26.030736Z",
     "shell.execute_reply": "2025-04-26T07:43:26.030073Z",
     "shell.execute_reply.started": "2025-04-26T07:43:14.824882Z"
    },
    "papermill": {
     "duration": null,
     "end_time": null,
     "exception": null,
     "start_time": null,
     "status": "completed"
    },
    "tags": []
   },
   "outputs": [],
   "source": [
    "# Classification Report\n",
    "print(\"\\nConvNeXt Classification Report:\")\n",
    "print(classification_report(y_test_encoded, convnext_preds, target_names=le.classes_))\n",
    "\n",
    "# ROC Curve\n",
    "plt.figure(figsize=(10, 8))\n",
    "for i in range(num_classes):\n",
    "    fpr, tpr, _ = roc_curve(y_test_one_hot[:, i], convnext_model.predict(X_test_convnext)[:, i])\n",
    "    plt.plot(fpr, tpr, label=f'{le.classes_[i]} (AUC={auc(fpr,tpr):.2f})')\n",
    "\n",
    "plt.plot([0,1],[0,1],'k--')\n",
    "plt.title(\"ConvNeXt ROC Curve\")\n",
    "plt.xlabel(\"False Positive Rate\")\n",
    "plt.ylabel(\"True Positive Rate\")\n",
    "plt.legend()\n",
    "plt.grid(True)\n",
    "plt.show()\n",
    "\n",
    "print(\"✅ ConvNeXt training and evaluation completed!\")"
   ]
  }
 ],
 "metadata": {
  "kaggle": {
   "accelerator": "gpu",
   "dataSources": [
    {
     "datasetId": 7155903,
     "sourceId": 11425718,
     "sourceType": "datasetVersion"
    }
   ],
   "dockerImageVersionId": 31013,
   "isGpuEnabled": true,
   "isInternetEnabled": true,
   "language": "python",
   "sourceType": "notebook"
  },
  "kernelspec": {
   "display_name": "Python 3",
   "language": "python",
   "name": "python3"
  },
  "language_info": {
   "codemirror_mode": {
    "name": "ipython",
    "version": 3
   },
   "file_extension": ".py",
   "mimetype": "text/x-python",
   "name": "python",
   "nbconvert_exporter": "python",
   "pygments_lexer": "ipython3",
   "version": "3.11.11"
  },
  "papermill": {
   "default_parameters": {},
   "duration": 42.635846,
   "end_time": "2025-09-26T12:57:44.782490",
   "environment_variables": {},
   "exception": null,
   "input_path": "__notebook__.ipynb",
   "output_path": "__notebook__.ipynb",
   "parameters": {},
   "start_time": "2025-09-26T12:57:02.146644",
   "version": "2.6.0"
  }
 },
 "nbformat": 4,
 "nbformat_minor": 5
}
